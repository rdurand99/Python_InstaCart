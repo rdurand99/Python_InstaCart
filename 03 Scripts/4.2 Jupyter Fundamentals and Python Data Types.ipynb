{
 "cells": [
  {
   "cell_type": "markdown",
   "id": "ea536b57",
   "metadata": {},
   "source": [
    "# Import Libraries"
   ]
  },
  {
   "cell_type": "code",
   "execution_count": 1,
   "id": "fa3a5ee9-c6d8-47ae-908d-8304fee897a1",
   "metadata": {},
   "outputs": [],
   "source": [
    "#Import libraries\n",
    "import pandas as pd\n",
    "import numpy as np\n",
    "import os"
   ]
  },
  {
   "cell_type": "markdown",
   "id": "f26c3fc5",
   "metadata": {},
   "source": [
    "# Data Types"
   ]
  },
  {
   "cell_type": "code",
   "execution_count": 2,
   "id": "ac69ded7",
   "metadata": {},
   "outputs": [],
   "source": [
    "x = 75"
   ]
  },
  {
   "cell_type": "code",
   "execution_count": 3,
   "id": "dfec4b05",
   "metadata": {},
   "outputs": [],
   "source": [
    "y = 25"
   ]
  },
  {
   "cell_type": "code",
   "execution_count": 4,
   "id": "69020826",
   "metadata": {},
   "outputs": [
    {
     "data": {
      "text/plain": [
       "100"
      ]
     },
     "execution_count": 4,
     "metadata": {},
     "output_type": "execute_result"
    }
   ],
   "source": [
    "x + y "
   ]
  },
  {
   "cell_type": "code",
   "execution_count": 5,
   "id": "ce6aeb66",
   "metadata": {},
   "outputs": [],
   "source": [
    "z = 150"
   ]
  },
  {
   "cell_type": "code",
   "execution_count": 6,
   "id": "6b993fe5",
   "metadata": {},
   "outputs": [
    {
     "data": {
      "text/plain": [
       "100"
      ]
     },
     "execution_count": 6,
     "metadata": {},
     "output_type": "execute_result"
    }
   ],
   "source": [
    "z - (y * 2)"
   ]
  },
  {
   "cell_type": "code",
   "execution_count": 9,
   "id": "6ea1b040",
   "metadata": {},
   "outputs": [
    {
     "data": {
      "text/plain": [
       "100"
      ]
     },
     "execution_count": 9,
     "metadata": {},
     "output_type": "execute_result"
    }
   ],
   "source": [
    "z - (x - y)"
   ]
  },
  {
   "cell_type": "code",
   "execution_count": 11,
   "id": "dd160aad",
   "metadata": {},
   "outputs": [],
   "source": [
    "a = 9.75"
   ]
  },
  {
   "cell_type": "code",
   "execution_count": 12,
   "id": "dd4b7290",
   "metadata": {},
   "outputs": [],
   "source": [
    "b = 2.75"
   ]
  },
  {
   "cell_type": "code",
   "execution_count": 13,
   "id": "0c799e02",
   "metadata": {},
   "outputs": [
    {
     "data": {
      "text/plain": [
       "3.5454545454545454"
      ]
     },
     "execution_count": 13,
     "metadata": {},
     "output_type": "execute_result"
    }
   ],
   "source": [
    "a / b"
   ]
  },
  {
   "cell_type": "code",
   "execution_count": 15,
   "id": "66d5807e",
   "metadata": {},
   "outputs": [],
   "source": [
    "m = 'butter'"
   ]
  },
  {
   "cell_type": "code",
   "execution_count": 16,
   "id": "41826252",
   "metadata": {},
   "outputs": [],
   "source": [
    "n = 'scotch'"
   ]
  },
  {
   "cell_type": "code",
   "execution_count": 17,
   "id": "9b18da26",
   "metadata": {},
   "outputs": [
    {
     "data": {
      "text/plain": [
       "'butterscotch'"
      ]
     },
     "execution_count": 17,
     "metadata": {},
     "output_type": "execute_result"
    }
   ],
   "source": [
    "m + n "
   ]
  },
  {
   "cell_type": "code",
   "execution_count": 26,
   "id": "ff5fdf69",
   "metadata": {},
   "outputs": [],
   "source": [
    "c = 'Good '"
   ]
  },
  {
   "cell_type": "code",
   "execution_count": 23,
   "id": "0eee399e",
   "metadata": {},
   "outputs": [],
   "source": [
    "d = 'Afternoon, '"
   ]
  },
  {
   "cell_type": "code",
   "execution_count": 32,
   "id": "ea29d957",
   "metadata": {},
   "outputs": [],
   "source": [
    "e = 'Amy. '"
   ]
  },
  {
   "cell_type": "code",
   "execution_count": 33,
   "id": "e0c7c315",
   "metadata": {},
   "outputs": [
    {
     "data": {
      "text/plain": [
       "'Good Afternoon, Amy. '"
      ]
     },
     "execution_count": 33,
     "metadata": {},
     "output_type": "execute_result"
    }
   ],
   "source": [
    "c + d + e"
   ]
  },
  {
   "cell_type": "code",
   "execution_count": 30,
   "id": "4e39a284",
   "metadata": {},
   "outputs": [],
   "source": [
    "f = 'Cats '"
   ]
  },
  {
   "cell_type": "code",
   "execution_count": 31,
   "id": "cc956cb8",
   "metadata": {},
   "outputs": [],
   "source": [
    "g = 'are '"
   ]
  },
  {
   "cell_type": "code",
   "execution_count": 34,
   "id": "61b5ad4d",
   "metadata": {},
   "outputs": [],
   "source": [
    "h = 'soft.'"
   ]
  },
  {
   "cell_type": "code",
   "execution_count": 35,
   "id": "4debbe16",
   "metadata": {},
   "outputs": [
    {
     "data": {
      "text/plain": [
       "'Cats are soft.'"
      ]
     },
     "execution_count": 35,
     "metadata": {},
     "output_type": "execute_result"
    }
   ],
   "source": [
    "f + g + h"
   ]
  }
 ],
 "metadata": {
  "kernelspec": {
   "display_name": "Python 3 (ipykernel)",
   "language": "python",
   "name": "python3"
  },
  "language_info": {
   "codemirror_mode": {
    "name": "ipython",
    "version": 3
   },
   "file_extension": ".py",
   "mimetype": "text/x-python",
   "name": "python",
   "nbconvert_exporter": "python",
   "pygments_lexer": "ipython3",
   "version": "3.10.9"
  }
 },
 "nbformat": 4,
 "nbformat_minor": 5
}
